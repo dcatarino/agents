{
 "cells": [
  {
   "cell_type": "markdown",
   "metadata": {},
   "source": [
    "# Welcome to the start of your adventure in Agentic AI"
   ]
  },
  {
   "cell_type": "markdown",
   "metadata": {},
   "source": [
    "<table style=\"margin: 0; text-align: left; width:100%\">\n",
    "    <tr>\n",
    "        <td style=\"width: 150px; height: 150px; vertical-align: middle;\">\n",
    "            <img src=\"../assets/stop.png\" width=\"150\" height=\"150\" style=\"display: block;\" />\n",
    "        </td>\n",
    "        <td>\n",
    "            <h2 style=\"color:#ff7800;\">Are you ready for action??</h2>\n",
    "            <span style=\"color:#ff7800;\">Have you completed all the setup steps in the <a href=\"../setup/\">setup</a> folder?<br/>\n",
    "            Have you checked out the guides in the <a href=\"../guides/01_intro.ipynb\">guides</a> folder?<br/>\n",
    "            Well in that case, you're ready!!\n",
    "            </span>\n",
    "        </td>\n",
    "    </tr>\n",
    "</table>"
   ]
  },
  {
   "cell_type": "markdown",
   "metadata": {},
   "source": [
    "<table style=\"margin: 0; text-align: left; width:100%\">\n",
    "    <tr>\n",
    "        <td style=\"width: 150px; height: 150px; vertical-align: middle;\">\n",
    "            <img src=\"../assets/tools.png\" width=\"150\" height=\"150\" style=\"display: block;\" />\n",
    "        </td>\n",
    "        <td>\n",
    "            <h2 style=\"color:#00bfff;\">This code is a live resource - keep an eye out for my updates</h2>\n",
    "            <span style=\"color:#00bfff;\">I push updates regularly. As people ask questions or have problems, I add more examples and improve explanations. As a result, the code below might not be identical to the videos, as I've added more steps and better comments. Consider this like an interactive book that accompanies the lectures.<br/><br/>\n",
    "            I try to send emails regularly with important updates related to the course. You can find this in the 'Announcements' section of Udemy in the left sidebar. You can also choose to receive my emails via your Notification Settings in Udemy. I'm respectful of your inbox and always try to add value with my emails!\n",
    "            </span>\n",
    "        </td>\n",
    "    </tr>\n",
    "</table>"
   ]
  },
  {
   "cell_type": "markdown",
   "metadata": {},
   "source": [
    "### And please do remember to contact me if I can help\n",
    "\n",
    "And I love to connect: https://www.linkedin.com/in/eddonner/\n",
    "\n",
    "\n",
    "### New to Notebooks like this one? Head over to the guides folder!\n",
    "\n",
    "Just to check you've already added the Python and Jupyter extensions to Cursor, if not already installed:\n",
    "- Open extensions (View >> extensions)\n",
    "- Search for python, and when the results show, click on the ms-python one, and Install it if not already installed\n",
    "- Search for jupyter, and when the results show, click on the Microsoft one, and Install it if not already installed  \n",
    "Then View >> Explorer to bring back the File Explorer.\n",
    "\n",
    "And then:\n",
    "1. Click where it says \"Select Kernel\" near the top right, and select the option called `.venv (Python 3.12.9)` or similar, which should be the first choice or the most prominent choice. You may need to choose \"Python Environments\" first.\n",
    "2. Click in each \"cell\" below, starting with the cell immediately below this text, and press Shift+Enter to run\n",
    "3. Enjoy!\n",
    "\n",
    "After you click \"Select Kernel\", if there is no option like `.venv (Python 3.12.9)` then please do the following:  \n",
    "1. On Mac: From the Cursor menu, choose Settings >> VS Code Settings (NOTE: be sure to select `VSCode Settings` not `Cursor Settings`);  \n",
    "On Windows PC: From the File menu, choose Preferences >> VS Code Settings(NOTE: be sure to select `VSCode Settings` not `Cursor Settings`)  \n",
    "2. In the Settings search bar, type \"venv\"  \n",
    "3. In the field \"Path to folder with a list of Virtual Environments\" put the path to the project root, like C:\\Users\\username\\projects\\agents (on a Windows PC) or /Users/username/projects/agents (on Mac or Linux).  \n",
    "And then try again.\n",
    "\n",
    "Having problems with missing Python versions in that list? Have you ever used Anaconda before? It might be interferring. Quit Cursor, bring up a new command line, and make sure that your Anaconda environment is deactivated:    \n",
    "`conda deactivate`  \n",
    "And if you still have any problems with conda and python versions, it's possible that you will need to run this too:  \n",
    "`conda config --set auto_activate_base false`  \n",
    "and then from within the Agents directory, you should be able to run `uv python list` and see the Python 3.12 version."
   ]
  },
  {
   "cell_type": "code",
   "execution_count": 5,
   "metadata": {},
   "outputs": [],
   "source": [
    "# First let's do an import\n",
    "from dotenv import load_dotenv\n"
   ]
  },
  {
   "cell_type": "code",
   "execution_count": 11,
   "metadata": {},
   "outputs": [
    {
     "data": {
      "text/plain": [
       "True"
      ]
     },
     "execution_count": 11,
     "metadata": {},
     "output_type": "execute_result"
    }
   ],
   "source": [
    "# Next it's time to load the API keys into environment variables\n",
    "\n",
    "load_dotenv(override=True)"
   ]
  },
  {
   "cell_type": "code",
   "execution_count": 12,
   "metadata": {},
   "outputs": [
    {
     "name": "stdout",
     "output_type": "stream",
     "text": [
      "OpenAI API Key exists and begins sk-proj-\n"
     ]
    }
   ],
   "source": [
    "# Check the keys\n",
    "\n",
    "import os\n",
    "openai_api_key = os.getenv('OPENAI_API_KEY')\n",
    "\n",
    "if openai_api_key:\n",
    "    print(f\"OpenAI API Key exists and begins {openai_api_key[:8]}\")\n",
    "else:\n",
    "    print(\"OpenAI API Key not set - please head to the troubleshooting guide in the setup folder\")\n",
    "    \n"
   ]
  },
  {
   "cell_type": "code",
   "execution_count": 9,
   "metadata": {},
   "outputs": [],
   "source": [
    "# And now - the all important import statement\n",
    "# If you get an import error - head over to troubleshooting guide\n",
    "\n",
    "from openai import OpenAI"
   ]
  },
  {
   "cell_type": "code",
   "execution_count": 13,
   "metadata": {},
   "outputs": [],
   "source": [
    "# And now we'll create an instance of the OpenAI class\n",
    "# If you're not sure what it means to create an instance of a class - head over to the guides folder!\n",
    "# If you get a NameError - head over to the guides folder to learn about NameErrors\n",
    "\n",
    "openai = OpenAI()"
   ]
  },
  {
   "cell_type": "code",
   "execution_count": 14,
   "metadata": {},
   "outputs": [
    {
     "ename": "SyntaxError",
     "evalue": "invalid decimal literal (2548210604.py, line 3)",
     "output_type": "error",
     "traceback": [
      "  \u001b[36mCell\u001b[39m\u001b[36m \u001b[39m\u001b[32mIn[19]\u001b[39m\u001b[32m, line 3\u001b[39m\n\u001b[31m    \u001b[39m\u001b[31m1messages = [{\"role\": \"user\", \"content\": \"What is 2+2?\"}]\u001b[39m\n    ^\n\u001b[31mSyntaxError\u001b[39m\u001b[31m:\u001b[39m invalid decimal literal\n"
     ]
    }
   ],
   "source": [
    "# Create a list of messages in the familiar OpenAI format\n",
    "\n",
    "1messages = [{\"role\": \"user\", \"content\": \"What is 2+2?\"}]"
   ]
  },
  {
   "cell_type": "code",
   "execution_count": 16,
   "metadata": {},
   "outputs": [
    {
     "name": "stdout",
     "output_type": "stream",
     "text": [
      "2 + 2 = 4\n"
     ]
    }
   ],
   "source": [
    "# And now call it! Any problems, head to the troubleshooting guide\n",
    "# This uses GPT 4.1 nano, the incredibly cheap model\n",
    "\n",
    "response = openai.chat.completions.create(\n",
    "    model=\"gpt-4.1-nano\",\n",
    "    messages=messages\n",
    ")\n",
    "\n",
    "print(response.choices[0].message.content)\n"
   ]
  },
  {
   "cell_type": "code",
   "execution_count": 17,
   "metadata": {},
   "outputs": [],
   "source": [
    "# And now - let's ask for a question:\n",
    "\n",
    "question = \"Please propose a hard, challenging question to assess someone's IQ. Respond only with the question.\"\n",
    "messages = [{\"role\": \"user\", \"content\": question}]\n",
    "\n"
   ]
  },
  {
   "cell_type": "code",
   "execution_count": 18,
   "metadata": {},
   "outputs": [
    {
     "name": "stdout",
     "output_type": "stream",
     "text": [
      "If two trains start from opposite cities 300 miles apart and travel toward each other at speeds of 60 mph and 40 mph respectively, a bird starts flying from the first train toward the second at 75 mph, instantly turning back upon reaching each train, flying continuously back and forth until the trains collide. How far does the bird travel before the trains meet?\n"
     ]
    }
   ],
   "source": [
    "# ask it - this uses GPT 4.1 mini, still cheap but more powerful than nano\n",
    "\n",
    "response = openai.chat.completions.create(\n",
    "    model=\"gpt-4.1-mini\",\n",
    "    messages=messages\n",
    ")\n",
    "\n",
    "question = response.choices[0].message.content\n",
    "\n",
    "print(question)\n"
   ]
  },
  {
   "cell_type": "code",
   "execution_count": 21,
   "metadata": {},
   "outputs": [
    {
     "name": "stdout",
     "output_type": "stream",
     "text": [
      "Let's analyze the problem step-by-step.\n",
      "\n",
      "---\n",
      "\n",
      "### Given:\n",
      "\n",
      "- Distance between two cities: \\(300\\) miles  \n",
      "- Train 1 speed: \\(60\\) mph (starting from city A)  \n",
      "- Train 2 speed: \\(40\\) mph (starting from city B)  \n",
      "- Bird speed: \\(75\\) mph  \n",
      "- Bird starts from Train 1 (city A) and flies back and forth until the trains meet.\n",
      "\n",
      "---\n",
      "\n",
      "### Step 1: Find the time until the trains meet.\n",
      "\n",
      "Since the trains are moving toward each other, their relative speed is the sum of their speeds:\n",
      "\n",
      "\\[\n",
      "60\\, \\text{mph} + 40\\, \\text{mph} = 100\\, \\text{mph}\n",
      "\\]\n",
      "\n",
      "The time for them to collide (meet) is:\n",
      "\n",
      "\\[\n",
      "t = \\frac{\\text{Distance}}{\\text{Relative speed}} = \\frac{300}{100} = 3\\, \\text{hours}\n",
      "\\]\n",
      "\n",
      "---\n",
      "\n",
      "### Step 2: Compute the total distance the bird travels.\n",
      "\n",
      "The bird flies continuously at \\(75\\) mph for the entire duration until the trains meet, which is \\(3\\) hours.\n",
      "\n",
      "Hence, the total distance traveled by the bird is:\n",
      "\n",
      "\\[\n",
      "\\text{Distance}_{\\text{bird}} = \\text{Speed}_{\\text{bird}} \\times t = 75 \\times 3 = 225\\, \\text{miles}\n",
      "\\]\n",
      "\n",
      "---\n",
      "\n",
      "### **Answer:**\n",
      "\n",
      "\\[\n",
      "\\boxed{225 \\text{ miles}}\n",
      "\\]\n",
      "\n",
      "The bird flies **225 miles** before the trains meet.\n"
     ]
    }
   ],
   "source": [
    "# Ask it again\n",
    "\n",
    "response = openai.chat.completions.create(\n",
    "    model=\"gpt-4.1-mini\",\n",
    "    messages=messages\n",
    ")\n",
    "\n",
    "answer = response.choices[0].message.content\n",
    "print(answer)\n"
   ]
  },
  {
   "cell_type": "code",
   "execution_count": 22,
   "metadata": {},
   "outputs": [
    {
     "data": {
      "text/markdown": [
       "Let's analyze the problem step-by-step.\n",
       "\n",
       "---\n",
       "\n",
       "### Given:\n",
       "\n",
       "- Distance between two cities: \\(300\\) miles  \n",
       "- Train 1 speed: \\(60\\) mph (starting from city A)  \n",
       "- Train 2 speed: \\(40\\) mph (starting from city B)  \n",
       "- Bird speed: \\(75\\) mph  \n",
       "- Bird starts from Train 1 (city A) and flies back and forth until the trains meet.\n",
       "\n",
       "---\n",
       "\n",
       "### Step 1: Find the time until the trains meet.\n",
       "\n",
       "Since the trains are moving toward each other, their relative speed is the sum of their speeds:\n",
       "\n",
       "\\[\n",
       "60\\, \\text{mph} + 40\\, \\text{mph} = 100\\, \\text{mph}\n",
       "\\]\n",
       "\n",
       "The time for them to collide (meet) is:\n",
       "\n",
       "\\[\n",
       "t = \\frac{\\text{Distance}}{\\text{Relative speed}} = \\frac{300}{100} = 3\\, \\text{hours}\n",
       "\\]\n",
       "\n",
       "---\n",
       "\n",
       "### Step 2: Compute the total distance the bird travels.\n",
       "\n",
       "The bird flies continuously at \\(75\\) mph for the entire duration until the trains meet, which is \\(3\\) hours.\n",
       "\n",
       "Hence, the total distance traveled by the bird is:\n",
       "\n",
       "\\[\n",
       "\\text{Distance}_{\\text{bird}} = \\text{Speed}_{\\text{bird}} \\times t = 75 \\times 3 = 225\\, \\text{miles}\n",
       "\\]\n",
       "\n",
       "---\n",
       "\n",
       "### **Answer:**\n",
       "\n",
       "\\[\n",
       "\\boxed{225 \\text{ miles}}\n",
       "\\]\n",
       "\n",
       "The bird flies **225 miles** before the trains meet."
      ],
      "text/plain": [
       "<IPython.core.display.Markdown object>"
      ]
     },
     "metadata": {},
     "output_type": "display_data"
    }
   ],
   "source": [
    "from IPython.display import Markdown, display\n",
    "\n",
    "display(Markdown(answer))\n",
    "\n"
   ]
  },
  {
   "cell_type": "markdown",
   "metadata": {},
   "source": [
    "# Congratulations!\n",
    "\n",
    "That was a small, simple step in the direction of Agentic AI, with your new environment!\n",
    "\n",
    "Next time things get more interesting..."
   ]
  },
  {
   "cell_type": "markdown",
   "metadata": {},
   "source": [
    "<table style=\"margin: 0; text-align: left; width:100%\">\n",
    "    <tr>\n",
    "        <td style=\"width: 150px; height: 150px; vertical-align: middle;\">\n",
    "            <img src=\"../assets/exercise.png\" width=\"150\" height=\"150\" style=\"display: block;\" />\n",
    "        </td>\n",
    "        <td>\n",
    "            <h2 style=\"color:#ff7800;\">Exercise</h2>\n",
    "            <span style=\"color:#ff7800;\">Now try this commercial application:<br/>\n",
    "            First ask the LLM to pick a business area that might be worth exploring for an Agentic AI opportunity.<br/>\n",
    "            Then ask the LLM to present a pain-point in that industry - something challenging that might be ripe for an Agentic solution.<br/>\n",
    "            Finally have 3 third LLM call propose the Agentic AI solution.\n",
    "            </span>\n",
    "        </td>\n",
    "    </tr>\n",
    "</table>"
   ]
  },
  {
   "cell_type": "code",
   "execution_count": 27,
   "metadata": {},
   "outputs": [
    {
     "name": "stdout",
     "output_type": "stream",
     "text": [
      "Business Area:\n"
     ]
    },
    {
     "data": {
      "text/markdown": [
       "One promising business area for an Agentic AI opportunity is **Supply Chain and Logistics Management**.\n",
       "\n",
       "### Why Supply Chain and Logistics?\n",
       "\n",
       "1. **Complex Decision-Making:** Supply chains involve numerous dynamic variables, such as demand forecasting, inventory management, transportation routing, and supplier coordination. Agentic AI can autonomously analyze data and make decisions that optimize these variables in real time.\n",
       "\n",
       "2. **High Impact of Automation:** Manual processes and siloed legacy systems still dominate many logistics operations. Automating routine tasks—like order processing, shipment scheduling, and anomaly detection—can drastically increase efficiency and reduce errors.\n",
       "\n",
       "3. **Cost Savings and Efficiency Gains:** Improved inventory turnover, reduced shipping costs, and optimized warehouse utilization yield substantial financial benefits.\n",
       "\n",
       "4. **Resilience and Adaptability:** Agentic AI can proactively respond to disruptions (e.g., supply shortages, weather events, transportation delays) by rerouting deliveries, adjusting procurement, or reallocating resources autonomously.\n",
       "\n",
       "### Potential Agentic AI Applications\n",
       "\n",
       "- **Dynamic Routing and Fleet Management:** Autonomous agents optimize delivery routes based on real-time traffic, weather, and order priority.\n",
       "- **Predictive Demand & Inventory Management:** Agents analyze market trends and customer data to maintain optimal stock levels and reorder automatically.\n",
       "- **Supplier Risk Assessment:** AI agents continuously evaluate supplier reliability, pricing, and geopolitical risks, autonomously switching suppliers if needed.\n",
       "- **Automated Negotiation:** Intelligent agents negotiate contracts and pricing with suppliers or logistics providers based on predefined goals and constraints.\n",
       "\n",
       "### Market Opportunity\n",
       "\n",
       "Given the global scale of supply chain operations, even incremental improvements lead to billions in value. Companies are actively investing in digital transformation, making this a ripe area for advanced Agentic AI solutions that combine automation with intelligent, autonomous decision-making.\n",
       "\n",
       "---\n",
       "\n",
       "If you'd like, I can help outline a business model or development roadmap for an Agentic AI product in this space."
      ],
      "text/plain": [
       "<IPython.core.display.Markdown object>"
      ]
     },
     "metadata": {},
     "output_type": "display_data"
    },
    {
     "name": "stdout",
     "output_type": "stream",
     "text": [
      "\n",
      "Pain Point:\n"
     ]
    },
    {
     "data": {
      "text/markdown": [
       "Certainly! A specific pain point in Supply Chain and Logistics Management that could be effectively addressed with an Agentic AI solution is:\n",
       "\n",
       "### Pain Point: **Inefficient and Reactive Disruption Management**\n",
       "\n",
       "#### The Problem:\n",
       "Supply chains are vulnerable to frequent and often unpredictable disruptions, such as:\n",
       "\n",
       "- Sudden supplier failures or delays\n",
       "- Transportation bottlenecks (traffic jams, accidents)\n",
       "- Weather-related interruptions\n",
       "- Regulatory or customs hold-ups\n",
       "- Demand spikes or drops\n",
       "\n",
       "Currently, many companies respond to such disruptions reactively—often manually or with basic alerting systems—resulting in delayed responses, suboptimal decision-making, increased costs, and dissatisfied customers.\n",
       "\n",
       "#### Impact:\n",
       "- **Increased lead times and delayed deliveries**, harming customer satisfaction and contract compliance.\n",
       "- **Higher operational costs** due to expedited shipping, penalty fees, or wasted inventory.\n",
       "- **Reduced supply chain resilience**, leading to risk of stockouts or overstock.\n",
       "- **Loss of competitive advantage** as supply chains lag behind more agile competitors.\n",
       "\n",
       "---\n",
       "\n",
       "### How Agentic AI Can Solve This:\n",
       "\n",
       "An Agentic AI system can proactively monitor all relevant data sources (supplier status, traffic, weather forecasts, shipment tracking, etc.) and autonomously detect early signals of potential disruptions.\n",
       "\n",
       "- **Real-time, Autonomous Decision-Making:** The AI agent can dynamically reroute shipments, switch suppliers, reschedule production, or adjust inventory levels—all without human intervention.\n",
       "- **Continuous Learning:** The agent improves its disruption prediction and management strategies over time using reinforcement learning or similar methods.\n",
       "- **Cross-functional Coordination:** It can communicate and coordinate actions across procurement, production, logistics, and sales departments.\n",
       "\n",
       "---\n",
       "\n",
       "### Specific Use Case Example:\n",
       "\n",
       "If a critical shipment is delayed due to a highway accident, the Agentic AI detects the issue instantly, evaluates alternative routes or carriers, triggers renegotiation with backup suppliers, and informs sales to adjust delivery promises—all autonomously and within minutes.\n",
       "\n",
       "---\n",
       "\n",
       "If you want, I can help develop this use case further into a product concept or a go-to-market strategy."
      ],
      "text/plain": [
       "<IPython.core.display.Markdown object>"
      ]
     },
     "metadata": {},
     "output_type": "display_data"
    },
    {
     "name": "stdout",
     "output_type": "stream",
     "text": [
      "\n",
      "Proposed Solution:\n"
     ]
    },
    {
     "data": {
      "text/markdown": [
       "Certainly! Here’s a specific Agentic AI solution focused on the **Inefficient and Reactive Disruption Management** pain point within Supply Chain and Logistics:\n",
       "\n",
       "---\n",
       "\n",
       "## Agentic AI Solution: **Autonomous Disruption Response System (ADRS)**\n",
       "\n",
       "### Solution Overview\n",
       "The **Autonomous Disruption Response System (ADRS)** is an intelligent, end-to-end AI agent that continuously monitors supply chain data streams to proactively detect, predict, and autonomously respond to disruptions without manual input. ADRS acts as a dynamic command center agent that orchestrates supply chain adjustments in real time, minimizing negative impact and optimizing operations.\n",
       "\n",
       "---\n",
       "\n",
       "### How ADRS Works\n",
       "\n",
       "1. **Data Integration & Monitoring**  \n",
       "   ADRS integrates with multiple data sources in real time:  \n",
       "   - Supplier performance dashboards  \n",
       "   - Shipment tracking systems (GPS, carrier APIs)  \n",
       "   - Traffic, weather, and regulatory feeds  \n",
       "   - Demand forecasts and sales data  \n",
       "   - Internal ERP and inventory management systems  \n",
       "\n",
       "2. **Continuous Risk Assessment & Early Disruption Detection**  \n",
       "   Using machine learning models and anomaly detection algorithms, ADRS:  \n",
       "   - Predicts risk points from supplier reliability history and external events (e.g., geopolitical instability).  \n",
       "   - Detects shipment delays or deviations from expected routes.  \n",
       "   - Identifies emerging bottlenecks or sudden demand changes.  \n",
       "\n",
       "3. **Autonomous, Real-Time Decision-Making**  \n",
       "   Once a potential disruption is detected, ADRS:  \n",
       "   - Evaluates all alternative actions (reroutes, supplier switches, inventory reallocation) with scenario simulations.  \n",
       "   - Executes the optimal response autonomously, such as:  \n",
       "     - Rerouting shipments using dynamic routing agents.  \n",
       "     - Triggering secondary suppliers or adjusting purchase orders.  \n",
       "     - Rescheduling production runs or reprioritizing warehouse operations.  \n",
       "   - Coordinates cross-departmental workflows by sending automated updates to procurement, logistics, sales, and customer service teams.\n",
       "\n",
       "4. **Continuous Learning and Improvement**  \n",
       "   With reinforcement learning, ADRS learns which disruption responses yield the best outcomes and refines its decision-making over time to increase accuracy and efficiency, adapting to new supply chain configurations or market conditions.\n",
       "\n",
       "---\n",
       "\n",
       "### Value Created\n",
       "\n",
       "- **Reduced Lead Times & Improved Delivery Reliability**  \n",
       "  Proactive disruption management prevents cascading delays, ensuring on-time deliveries and enhancing customer satisfaction.\n",
       "\n",
       "- **Operational Cost Savings**  \n",
       "  Avoidance of expedited shipping fees, penalties, and excess inventory through timely, optimal rescheduling and routing.\n",
       "\n",
       "- **Increased Supply Chain Resilience and Agility**  \n",
       "  Autonomous, real-time responses enable supply chains to flex and adapt quickly to unforeseen events, maintaining continuity.\n",
       "\n",
       "- **Enhanced Competitive Advantage**  \n",
       "  Faster, more reliable supply chains improve market reputation and enable companies to win new contracts or customers.\n",
       "\n",
       "---\n",
       "\n",
       "### Example Scenario\n",
       "\n",
       "A major supplier experiences a sudden factory shutdown due to power failure:\n",
       "\n",
       "- ADRS detects early warning signals from supplier data and external news feeds.  \n",
       "- It autonomously evaluates alternative suppliers and available stock in regional warehouses.  \n",
       "- Automatically initiates orders from backup suppliers and instructs logistics to prioritize new shipment routing.  \n",
       "- Updates sales and customer service on expected delivery changes.  \n",
       "- All actions completed in minutes, preventing disruption escalation.\n",
       "\n",
       "---\n",
       "\n",
       "### Summary\n",
       "\n",
       "**ADRS positions a company to move from reactive firefighting to proactive, intelligent supply chain orchestration—driven by autonomous agents that continuously learn and optimize for resilience, efficiency, and customer satisfaction.**\n",
       "\n",
       "---\n",
       "\n",
       "If you want, I can also help you sketch out the technical architecture, key technology components, or a phased product development roadmap for ADRS. Would you like to proceed with that?"
      ],
      "text/plain": [
       "<IPython.core.display.Markdown object>"
      ]
     },
     "metadata": {},
     "output_type": "display_data"
    }
   ],
   "source": [
    "from IPython.display import Markdown, display\n",
    "\n",
    "# First create the messages:\n",
    "\n",
    "# First create the messages for business area exploration\n",
    "messages = [{\"role\": \"user\", \"content\": \"Pick a business area that might be worth exploring for an Agentic AI opportunity. Focus on industries where automation and intelligent decision-making could create significant value.\"}]\n",
    "\n",
    "# Make the first call to get business area\n",
    "response = openai.chat.completions.create(\n",
    "    model=\"gpt-4.1-mini\",\n",
    "    messages=messages\n",
    ")\n",
    "\n",
    "business_area = response.choices[0].message.content\n",
    "print(\"Business Area:\")\n",
    "display(Markdown(business_area))\n",
    "\n",
    "# Now ask about pain points in that industry\n",
    "messages = [{\"role\": \"user\", \"content\": f\"Based on the business area of {business_area}, identify a specific pain point or challenge that could be addressed with an Agentic AI solution. Be specific about the problem and its impact.\"}]\n",
    "\n",
    "response = openai.chat.completions.create(\n",
    "    model=\"gpt-4.1-mini\",\n",
    "    messages=messages\n",
    ")\n",
    "\n",
    "pain_point = response.choices[0].message.content\n",
    "print(\"\\nPain Point:\")\n",
    "display(Markdown(pain_point))\n",
    "\n",
    "# Finally, propose the Agentic AI solution\n",
    "messages = [{\"role\": \"user\", \"content\": f\"Given the business area of {business_area} and the pain point of {pain_point}, propose a specific Agentic AI solution. Explain how it would work and what value it would create.\"}]\n",
    "\n",
    "response = openai.chat.completions.create(\n",
    "    model=\"gpt-4.1-mini\",\n",
    "    messages=messages\n",
    ")\n",
    "\n",
    "solution = response.choices[0].message.content\n",
    "print(\"\\nProposed Solution:\")\n",
    "display(Markdown(solution))\n",
    "\n",
    "\n",
    "messages = [{\"role\": \"user\", \"content\": \"Pick business areas that are worth exploring for an Agentic AI opportunity\"}]\n",
    "\n"
   ]
  },
  {
   "cell_type": "markdown",
   "metadata": {},
   "source": []
  }
 ],
 "metadata": {
  "kernelspec": {
   "display_name": ".venv",
   "language": "python",
   "name": "python3"
  },
  "language_info": {
   "codemirror_mode": {
    "name": "ipython",
    "version": 3
   },
   "file_extension": ".py",
   "mimetype": "text/x-python",
   "name": "python",
   "nbconvert_exporter": "python",
   "pygments_lexer": "ipython3",
   "version": "3.12.11"
  }
 },
 "nbformat": 4,
 "nbformat_minor": 2
}
